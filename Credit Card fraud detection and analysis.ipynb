{
 "cells": [
  {
   "cell_type": "markdown",
   "id": "eefeb768",
   "metadata": {
    "papermill": {
     "duration": 0.038753,
     "end_time": "2022-03-11T18:15:18.849843",
     "exception": false,
     "start_time": "2022-03-11T18:15:18.811090",
     "status": "completed"
    },
    "tags": []
   },
   "source": [
    "# 2.Import Libraries"
   ]
  },
  {
   "cell_type": "code",
   "execution_count": 1,
   "id": "732798c6",
   "metadata": {
    "execution": {
     "iopub.execute_input": "2022-03-11T18:15:18.931851Z",
     "iopub.status.busy": "2022-03-11T18:15:18.930836Z",
     "iopub.status.idle": "2022-03-11T18:15:20.482924Z",
     "shell.execute_reply": "2022-03-11T18:15:20.482223Z",
     "shell.execute_reply.started": "2022-03-11T18:00:46.479330Z"
    },
    "papermill": {
     "duration": 1.594144,
     "end_time": "2022-03-11T18:15:20.483079",
     "exception": false,
     "start_time": "2022-03-11T18:15:18.888935",
     "status": "completed"
    },
    "tags": []
   },
   "outputs": [],
   "source": [
    "import pandas as pd\n",
    "import numpy as np\n",
    "import seaborn as sns\n",
    "import matplotlib.pyplot as plt\n",
    "\n",
    "from sklearn.model_selection import train_test_split\n",
    "from sklearn.linear_model import LogisticRegression\n",
    "from sklearn.svm import SVC\n",
    "from sklearn.tree import DecisionTreeClassifier\n",
    "from sklearn.ensemble import RandomForestClassifier\n",
    "\n",
    "from imblearn.over_sampling import SMOTE\n",
    "from sklearn.metrics import accuracy_score, classification_report, confusion_matrix\n"
   ]
  },
  {
   "cell_type": "markdown",
   "id": "6a603cc0",
   "metadata": {
    "papermill": {
     "duration": 0.038754,
     "end_time": "2022-03-11T18:15:20.561760",
     "exception": false,
     "start_time": "2022-03-11T18:15:20.523006",
     "status": "completed"
    },
    "tags": []
   },
   "source": [
    "# 3. Reading Data Set"
   ]
  },
  {
   "cell_type": "code",
   "execution_count": 2,
   "id": "022f32a4",
   "metadata": {
    "execution": {
     "iopub.execute_input": "2022-03-11T18:15:20.644466Z",
     "iopub.status.busy": "2022-03-11T18:15:20.643740Z",
     "iopub.status.idle": "2022-03-11T18:15:24.719479Z",
     "shell.execute_reply": "2022-03-11T18:15:24.718975Z",
     "shell.execute_reply.started": "2022-03-11T18:00:46.488714Z"
    },
    "papermill": {
     "duration": 4.119264,
     "end_time": "2022-03-11T18:15:24.719628",
     "exception": false,
     "start_time": "2022-03-11T18:15:20.600364",
     "status": "completed"
    },
    "tags": []
   },
   "outputs": [
    {
     "name": "stdout",
     "output_type": "stream",
     "text": [
      "lets data features (first 5 rows) are \n",
      "    Time        V1        V2        V3        V4        V5        V6        V7  \\\n",
      "0   0.0 -1.359807 -0.072781  2.536347  1.378155 -0.338321  0.462388  0.239599   \n",
      "1   0.0  1.191857  0.266151  0.166480  0.448154  0.060018 -0.082361 -0.078803   \n",
      "2   1.0 -1.358354 -1.340163  1.773209  0.379780 -0.503198  1.800499  0.791461   \n",
      "3   1.0 -0.966272 -0.185226  1.792993 -0.863291 -0.010309  1.247203  0.237609   \n",
      "4   2.0 -1.158233  0.877737  1.548718  0.403034 -0.407193  0.095921  0.592941   \n",
      "\n",
      "         V8        V9  ...       V21       V22       V23       V24       V25  \\\n",
      "0  0.098698  0.363787  ... -0.018307  0.277838 -0.110474  0.066928  0.128539   \n",
      "1  0.085102 -0.255425  ... -0.225775 -0.638672  0.101288 -0.339846  0.167170   \n",
      "2  0.247676 -1.514654  ...  0.247998  0.771679  0.909412 -0.689281 -0.327642   \n",
      "3  0.377436 -1.387024  ... -0.108300  0.005274 -0.190321 -1.175575  0.647376   \n",
      "4 -0.270533  0.817739  ... -0.009431  0.798278 -0.137458  0.141267 -0.206010   \n",
      "\n",
      "        V26       V27       V28  Amount  Class  \n",
      "0 -0.189115  0.133558 -0.021053  149.62      0  \n",
      "1  0.125895 -0.008983  0.014724    2.69      0  \n",
      "2 -0.139097 -0.055353 -0.059752  378.66      0  \n",
      "3 -0.221929  0.062723  0.061458  123.50      0  \n",
      "4  0.502292  0.219422  0.215153   69.99      0  \n",
      "\n",
      "[5 rows x 31 columns]\n"
     ]
    }
   ],
   "source": [
    "df=pd.read_csv('creditcard.csv')\n",
    "print('lets data features (first 5 rows) are \\n',df.head())"
   ]
  },
  {
   "cell_type": "code",
   "execution_count": 3,
   "id": "08fbe136",
   "metadata": {
    "execution": {
     "iopub.execute_input": "2022-03-11T18:15:24.805185Z",
     "iopub.status.busy": "2022-03-11T18:15:24.804372Z",
     "iopub.status.idle": "2022-03-11T18:15:24.807136Z",
     "shell.execute_reply": "2022-03-11T18:15:24.807577Z",
     "shell.execute_reply.started": "2022-03-11T18:00:48.060900Z"
    },
    "papermill": {
     "duration": 0.048382,
     "end_time": "2022-03-11T18:15:24.807734",
     "exception": false,
     "start_time": "2022-03-11T18:15:24.759352",
     "status": "completed"
    },
    "tags": []
   },
   "outputs": [
    {
     "name": "stdout",
     "output_type": "stream",
     "text": [
      "Size of data set \n",
      "-  rows: 284807  columns: 31\n"
     ]
    }
   ],
   "source": [
    "print(\"Size of data set \\n-  rows:\",df.shape[0],\" columns:\",df.shape[1])"
   ]
  },
  {
   "cell_type": "code",
   "execution_count": 4,
   "id": "92a39b85",
   "metadata": {
    "execution": {
     "iopub.execute_input": "2022-03-11T18:15:24.897767Z",
     "iopub.status.busy": "2022-03-11T18:15:24.897136Z",
     "iopub.status.idle": "2022-03-11T18:15:25.322240Z",
     "shell.execute_reply": "2022-03-11T18:15:25.322705Z",
     "shell.execute_reply.started": "2022-03-11T18:00:48.062920Z"
    },
    "papermill": {
     "duration": 0.475514,
     "end_time": "2022-03-11T18:15:25.322868",
     "exception": false,
     "start_time": "2022-03-11T18:15:24.847354",
     "status": "completed"
    },
    "tags": []
   },
   "outputs": [
    {
     "data": {
      "text/html": [
       "<div>\n",
       "<style scoped>\n",
       "    .dataframe tbody tr th:only-of-type {\n",
       "        vertical-align: middle;\n",
       "    }\n",
       "\n",
       "    .dataframe tbody tr th {\n",
       "        vertical-align: top;\n",
       "    }\n",
       "\n",
       "    .dataframe thead th {\n",
       "        text-align: right;\n",
       "    }\n",
       "</style>\n",
       "<table border=\"1\" class=\"dataframe\">\n",
       "  <thead>\n",
       "    <tr style=\"text-align: right;\">\n",
       "      <th></th>\n",
       "      <th>Time</th>\n",
       "      <th>V1</th>\n",
       "      <th>V2</th>\n",
       "      <th>V3</th>\n",
       "      <th>V4</th>\n",
       "      <th>V5</th>\n",
       "      <th>V6</th>\n",
       "      <th>V7</th>\n",
       "      <th>V8</th>\n",
       "      <th>V9</th>\n",
       "      <th>...</th>\n",
       "      <th>V21</th>\n",
       "      <th>V22</th>\n",
       "      <th>V23</th>\n",
       "      <th>V24</th>\n",
       "      <th>V25</th>\n",
       "      <th>V26</th>\n",
       "      <th>V27</th>\n",
       "      <th>V28</th>\n",
       "      <th>Amount</th>\n",
       "      <th>Class</th>\n",
       "    </tr>\n",
       "  </thead>\n",
       "  <tbody>\n",
       "    <tr>\n",
       "      <th>count</th>\n",
       "      <td>284807.000000</td>\n",
       "      <td>2.848070e+05</td>\n",
       "      <td>2.848070e+05</td>\n",
       "      <td>2.848070e+05</td>\n",
       "      <td>2.848070e+05</td>\n",
       "      <td>2.848070e+05</td>\n",
       "      <td>2.848070e+05</td>\n",
       "      <td>2.848070e+05</td>\n",
       "      <td>2.848070e+05</td>\n",
       "      <td>2.848070e+05</td>\n",
       "      <td>...</td>\n",
       "      <td>2.848070e+05</td>\n",
       "      <td>2.848070e+05</td>\n",
       "      <td>2.848070e+05</td>\n",
       "      <td>2.848070e+05</td>\n",
       "      <td>2.848070e+05</td>\n",
       "      <td>2.848070e+05</td>\n",
       "      <td>2.848070e+05</td>\n",
       "      <td>2.848070e+05</td>\n",
       "      <td>284807.000000</td>\n",
       "      <td>284807.000000</td>\n",
       "    </tr>\n",
       "    <tr>\n",
       "      <th>mean</th>\n",
       "      <td>94813.859575</td>\n",
       "      <td>3.918649e-15</td>\n",
       "      <td>5.682686e-16</td>\n",
       "      <td>-8.761736e-15</td>\n",
       "      <td>2.811118e-15</td>\n",
       "      <td>-1.552103e-15</td>\n",
       "      <td>2.040130e-15</td>\n",
       "      <td>-1.698953e-15</td>\n",
       "      <td>-1.893285e-16</td>\n",
       "      <td>-3.147640e-15</td>\n",
       "      <td>...</td>\n",
       "      <td>1.473120e-16</td>\n",
       "      <td>8.042109e-16</td>\n",
       "      <td>5.282512e-16</td>\n",
       "      <td>4.456271e-15</td>\n",
       "      <td>1.426896e-15</td>\n",
       "      <td>1.701640e-15</td>\n",
       "      <td>-3.662252e-16</td>\n",
       "      <td>-1.217809e-16</td>\n",
       "      <td>88.349619</td>\n",
       "      <td>0.001727</td>\n",
       "    </tr>\n",
       "    <tr>\n",
       "      <th>std</th>\n",
       "      <td>47488.145955</td>\n",
       "      <td>1.958696e+00</td>\n",
       "      <td>1.651309e+00</td>\n",
       "      <td>1.516255e+00</td>\n",
       "      <td>1.415869e+00</td>\n",
       "      <td>1.380247e+00</td>\n",
       "      <td>1.332271e+00</td>\n",
       "      <td>1.237094e+00</td>\n",
       "      <td>1.194353e+00</td>\n",
       "      <td>1.098632e+00</td>\n",
       "      <td>...</td>\n",
       "      <td>7.345240e-01</td>\n",
       "      <td>7.257016e-01</td>\n",
       "      <td>6.244603e-01</td>\n",
       "      <td>6.056471e-01</td>\n",
       "      <td>5.212781e-01</td>\n",
       "      <td>4.822270e-01</td>\n",
       "      <td>4.036325e-01</td>\n",
       "      <td>3.300833e-01</td>\n",
       "      <td>250.120109</td>\n",
       "      <td>0.041527</td>\n",
       "    </tr>\n",
       "    <tr>\n",
       "      <th>min</th>\n",
       "      <td>0.000000</td>\n",
       "      <td>-5.640751e+01</td>\n",
       "      <td>-7.271573e+01</td>\n",
       "      <td>-4.832559e+01</td>\n",
       "      <td>-5.683171e+00</td>\n",
       "      <td>-1.137433e+02</td>\n",
       "      <td>-2.616051e+01</td>\n",
       "      <td>-4.355724e+01</td>\n",
       "      <td>-7.321672e+01</td>\n",
       "      <td>-1.343407e+01</td>\n",
       "      <td>...</td>\n",
       "      <td>-3.483038e+01</td>\n",
       "      <td>-1.093314e+01</td>\n",
       "      <td>-4.480774e+01</td>\n",
       "      <td>-2.836627e+00</td>\n",
       "      <td>-1.029540e+01</td>\n",
       "      <td>-2.604551e+00</td>\n",
       "      <td>-2.256568e+01</td>\n",
       "      <td>-1.543008e+01</td>\n",
       "      <td>0.000000</td>\n",
       "      <td>0.000000</td>\n",
       "    </tr>\n",
       "    <tr>\n",
       "      <th>25%</th>\n",
       "      <td>54201.500000</td>\n",
       "      <td>-9.203734e-01</td>\n",
       "      <td>-5.985499e-01</td>\n",
       "      <td>-8.903648e-01</td>\n",
       "      <td>-8.486401e-01</td>\n",
       "      <td>-6.915971e-01</td>\n",
       "      <td>-7.682956e-01</td>\n",
       "      <td>-5.540759e-01</td>\n",
       "      <td>-2.086297e-01</td>\n",
       "      <td>-6.430976e-01</td>\n",
       "      <td>...</td>\n",
       "      <td>-2.283949e-01</td>\n",
       "      <td>-5.423504e-01</td>\n",
       "      <td>-1.618463e-01</td>\n",
       "      <td>-3.545861e-01</td>\n",
       "      <td>-3.171451e-01</td>\n",
       "      <td>-3.269839e-01</td>\n",
       "      <td>-7.083953e-02</td>\n",
       "      <td>-5.295979e-02</td>\n",
       "      <td>5.600000</td>\n",
       "      <td>0.000000</td>\n",
       "    </tr>\n",
       "    <tr>\n",
       "      <th>50%</th>\n",
       "      <td>84692.000000</td>\n",
       "      <td>1.810880e-02</td>\n",
       "      <td>6.548556e-02</td>\n",
       "      <td>1.798463e-01</td>\n",
       "      <td>-1.984653e-02</td>\n",
       "      <td>-5.433583e-02</td>\n",
       "      <td>-2.741871e-01</td>\n",
       "      <td>4.010308e-02</td>\n",
       "      <td>2.235804e-02</td>\n",
       "      <td>-5.142873e-02</td>\n",
       "      <td>...</td>\n",
       "      <td>-2.945017e-02</td>\n",
       "      <td>6.781943e-03</td>\n",
       "      <td>-1.119293e-02</td>\n",
       "      <td>4.097606e-02</td>\n",
       "      <td>1.659350e-02</td>\n",
       "      <td>-5.213911e-02</td>\n",
       "      <td>1.342146e-03</td>\n",
       "      <td>1.124383e-02</td>\n",
       "      <td>22.000000</td>\n",
       "      <td>0.000000</td>\n",
       "    </tr>\n",
       "    <tr>\n",
       "      <th>75%</th>\n",
       "      <td>139320.500000</td>\n",
       "      <td>1.315642e+00</td>\n",
       "      <td>8.037239e-01</td>\n",
       "      <td>1.027196e+00</td>\n",
       "      <td>7.433413e-01</td>\n",
       "      <td>6.119264e-01</td>\n",
       "      <td>3.985649e-01</td>\n",
       "      <td>5.704361e-01</td>\n",
       "      <td>3.273459e-01</td>\n",
       "      <td>5.971390e-01</td>\n",
       "      <td>...</td>\n",
       "      <td>1.863772e-01</td>\n",
       "      <td>5.285536e-01</td>\n",
       "      <td>1.476421e-01</td>\n",
       "      <td>4.395266e-01</td>\n",
       "      <td>3.507156e-01</td>\n",
       "      <td>2.409522e-01</td>\n",
       "      <td>9.104512e-02</td>\n",
       "      <td>7.827995e-02</td>\n",
       "      <td>77.165000</td>\n",
       "      <td>0.000000</td>\n",
       "    </tr>\n",
       "    <tr>\n",
       "      <th>max</th>\n",
       "      <td>172792.000000</td>\n",
       "      <td>2.454930e+00</td>\n",
       "      <td>2.205773e+01</td>\n",
       "      <td>9.382558e+00</td>\n",
       "      <td>1.687534e+01</td>\n",
       "      <td>3.480167e+01</td>\n",
       "      <td>7.330163e+01</td>\n",
       "      <td>1.205895e+02</td>\n",
       "      <td>2.000721e+01</td>\n",
       "      <td>1.559499e+01</td>\n",
       "      <td>...</td>\n",
       "      <td>2.720284e+01</td>\n",
       "      <td>1.050309e+01</td>\n",
       "      <td>2.252841e+01</td>\n",
       "      <td>4.584549e+00</td>\n",
       "      <td>7.519589e+00</td>\n",
       "      <td>3.517346e+00</td>\n",
       "      <td>3.161220e+01</td>\n",
       "      <td>3.384781e+01</td>\n",
       "      <td>25691.160000</td>\n",
       "      <td>1.000000</td>\n",
       "    </tr>\n",
       "  </tbody>\n",
       "</table>\n",
       "<p>8 rows × 31 columns</p>\n",
       "</div>"
      ],
      "text/plain": [
       "                Time            V1            V2            V3            V4  \\\n",
       "count  284807.000000  2.848070e+05  2.848070e+05  2.848070e+05  2.848070e+05   \n",
       "mean    94813.859575  3.918649e-15  5.682686e-16 -8.761736e-15  2.811118e-15   \n",
       "std     47488.145955  1.958696e+00  1.651309e+00  1.516255e+00  1.415869e+00   \n",
       "min         0.000000 -5.640751e+01 -7.271573e+01 -4.832559e+01 -5.683171e+00   \n",
       "25%     54201.500000 -9.203734e-01 -5.985499e-01 -8.903648e-01 -8.486401e-01   \n",
       "50%     84692.000000  1.810880e-02  6.548556e-02  1.798463e-01 -1.984653e-02   \n",
       "75%    139320.500000  1.315642e+00  8.037239e-01  1.027196e+00  7.433413e-01   \n",
       "max    172792.000000  2.454930e+00  2.205773e+01  9.382558e+00  1.687534e+01   \n",
       "\n",
       "                 V5            V6            V7            V8            V9  \\\n",
       "count  2.848070e+05  2.848070e+05  2.848070e+05  2.848070e+05  2.848070e+05   \n",
       "mean  -1.552103e-15  2.040130e-15 -1.698953e-15 -1.893285e-16 -3.147640e-15   \n",
       "std    1.380247e+00  1.332271e+00  1.237094e+00  1.194353e+00  1.098632e+00   \n",
       "min   -1.137433e+02 -2.616051e+01 -4.355724e+01 -7.321672e+01 -1.343407e+01   \n",
       "25%   -6.915971e-01 -7.682956e-01 -5.540759e-01 -2.086297e-01 -6.430976e-01   \n",
       "50%   -5.433583e-02 -2.741871e-01  4.010308e-02  2.235804e-02 -5.142873e-02   \n",
       "75%    6.119264e-01  3.985649e-01  5.704361e-01  3.273459e-01  5.971390e-01   \n",
       "max    3.480167e+01  7.330163e+01  1.205895e+02  2.000721e+01  1.559499e+01   \n",
       "\n",
       "       ...           V21           V22           V23           V24  \\\n",
       "count  ...  2.848070e+05  2.848070e+05  2.848070e+05  2.848070e+05   \n",
       "mean   ...  1.473120e-16  8.042109e-16  5.282512e-16  4.456271e-15   \n",
       "std    ...  7.345240e-01  7.257016e-01  6.244603e-01  6.056471e-01   \n",
       "min    ... -3.483038e+01 -1.093314e+01 -4.480774e+01 -2.836627e+00   \n",
       "25%    ... -2.283949e-01 -5.423504e-01 -1.618463e-01 -3.545861e-01   \n",
       "50%    ... -2.945017e-02  6.781943e-03 -1.119293e-02  4.097606e-02   \n",
       "75%    ...  1.863772e-01  5.285536e-01  1.476421e-01  4.395266e-01   \n",
       "max    ...  2.720284e+01  1.050309e+01  2.252841e+01  4.584549e+00   \n",
       "\n",
       "                V25           V26           V27           V28         Amount  \\\n",
       "count  2.848070e+05  2.848070e+05  2.848070e+05  2.848070e+05  284807.000000   \n",
       "mean   1.426896e-15  1.701640e-15 -3.662252e-16 -1.217809e-16      88.349619   \n",
       "std    5.212781e-01  4.822270e-01  4.036325e-01  3.300833e-01     250.120109   \n",
       "min   -1.029540e+01 -2.604551e+00 -2.256568e+01 -1.543008e+01       0.000000   \n",
       "25%   -3.171451e-01 -3.269839e-01 -7.083953e-02 -5.295979e-02       5.600000   \n",
       "50%    1.659350e-02 -5.213911e-02  1.342146e-03  1.124383e-02      22.000000   \n",
       "75%    3.507156e-01  2.409522e-01  9.104512e-02  7.827995e-02      77.165000   \n",
       "max    7.519589e+00  3.517346e+00  3.161220e+01  3.384781e+01   25691.160000   \n",
       "\n",
       "               Class  \n",
       "count  284807.000000  \n",
       "mean        0.001727  \n",
       "std         0.041527  \n",
       "min         0.000000  \n",
       "25%         0.000000  \n",
       "50%         0.000000  \n",
       "75%         0.000000  \n",
       "max         1.000000  \n",
       "\n",
       "[8 rows x 31 columns]"
      ]
     },
     "execution_count": 4,
     "metadata": {},
     "output_type": "execute_result"
    }
   ],
   "source": [
    "#More details of the dataset\n",
    "df.describe()"
   ]
  },
  {
   "cell_type": "markdown",
   "id": "8fa77f40",
   "metadata": {
    "papermill": {
     "duration": 0.041721,
     "end_time": "2022-03-11T18:15:25.405571",
     "exception": false,
     "start_time": "2022-03-11T18:15:25.363850",
     "status": "completed"
    },
    "tags": []
   },
   "source": [
    "Now the Time feature from above table, we can confirm that the data contains 284,807 transactions, during 172792 seconds(2 consecutive days)."
   ]
  },
  {
   "cell_type": "markdown",
   "id": "7e05a010",
   "metadata": {
    "papermill": {
     "duration": 0.040201,
     "end_time": "2022-03-11T18:15:25.488286",
     "exception": false,
     "start_time": "2022-03-11T18:15:25.448085",
     "status": "completed"
    },
    "tags": []
   },
   "source": [
    "**3.1 Check missing data**\n",
    "\n",
    "Let's check if there is any missing data."
   ]
  },
  {
   "cell_type": "code",
   "execution_count": 5,
   "id": "348cea3a",
   "metadata": {
    "execution": {
     "iopub.execute_input": "2022-03-11T18:15:25.571729Z",
     "iopub.status.busy": "2022-03-11T18:15:25.571099Z",
     "iopub.status.idle": "2022-03-11T18:15:25.595264Z",
     "shell.execute_reply": "2022-03-11T18:15:25.595775Z",
     "shell.execute_reply.started": "2022-03-11T18:00:48.064884Z"
    },
    "papermill": {
     "duration": 0.067588,
     "end_time": "2022-03-11T18:15:25.595930",
     "exception": false,
     "start_time": "2022-03-11T18:15:25.528342",
     "status": "completed"
    },
    "tags": []
   },
   "outputs": [
    {
     "data": {
      "text/plain": [
       "Time      0\n",
       "V1        0\n",
       "V2        0\n",
       "V3        0\n",
       "V4        0\n",
       "V5        0\n",
       "V6        0\n",
       "V7        0\n",
       "V8        0\n",
       "V9        0\n",
       "V10       0\n",
       "V11       0\n",
       "V12       0\n",
       "V13       0\n",
       "V14       0\n",
       "V15       0\n",
       "V16       0\n",
       "V17       0\n",
       "V18       0\n",
       "V19       0\n",
       "V20       0\n",
       "V21       0\n",
       "V22       0\n",
       "V23       0\n",
       "V24       0\n",
       "V25       0\n",
       "V26       0\n",
       "V27       0\n",
       "V28       0\n",
       "Amount    0\n",
       "Class     0\n",
       "dtype: int64"
      ]
     },
     "execution_count": 5,
     "metadata": {},
     "output_type": "execute_result"
    }
   ],
   "source": [
    "df.isnull().sum()"
   ]
  },
  {
   "cell_type": "markdown",
   "id": "c5d1b22e",
   "metadata": {
    "papermill": {
     "duration": 0.040011,
     "end_time": "2022-03-11T18:15:25.676660",
     "exception": false,
     "start_time": "2022-03-11T18:15:25.636649",
     "status": "completed"
    },
    "tags": []
   },
   "source": [
    "There is no missing data in the entire dataset."
   ]
  },
  {
   "cell_type": "markdown",
   "id": "084731f2",
   "metadata": {
    "papermill": {
     "duration": 0.040047,
     "end_time": "2022-03-11T18:15:25.756943",
     "exception": false,
     "start_time": "2022-03-11T18:15:25.716896",
     "status": "completed"
    },
    "tags": []
   },
   "source": [
    "# 4.Exploratory data analysis\n"
   ]
  },
  {
   "cell_type": "code",
   "execution_count": 6,
   "id": "32c4a73a",
   "metadata": {
    "execution": {
     "iopub.execute_input": "2022-03-11T18:15:25.842420Z",
     "iopub.status.busy": "2022-03-11T18:15:25.840646Z",
     "iopub.status.idle": "2022-03-11T18:15:26.328611Z",
     "shell.execute_reply": "2022-03-11T18:15:26.328109Z",
     "shell.execute_reply.started": "2022-03-11T18:00:48.067232Z"
    },
    "papermill": {
     "duration": 0.531652,
     "end_time": "2022-03-11T18:15:26.328743",
     "exception": false,
     "start_time": "2022-03-11T18:15:25.797091",
     "status": "completed"
    },
    "tags": []
   },
   "outputs": [
    {
     "data": {
      "text/plain": [
       "<AxesSubplot:xlabel='Time', ylabel='Count'>"
      ]
     },
     "execution_count": 6,
     "metadata": {},
     "output_type": "execute_result"
    },
    {
     "data": {
      "image/png": "[encoded data removed]",
      "text/plain": [
       "<Figure size 432x288 with 1 Axes>"
      ]
     },
     "metadata": {
      "needs_background": "light"
     },
     "output_type": "display_data"
    }
   ],
   "source": [
    "#Distribution of Time column \n",
    "sns.histplot(df.Time,bins=50)"
   ]
  },
  {
   "cell_type": "code",
   "execution_count": 7,
   "id": "60da3b5a",
   "metadata": {
    "execution": {
     "iopub.execute_input": "2022-03-11T18:15:26.420443Z",
     "iopub.status.busy": "2022-03-11T18:15:26.419835Z",
     "iopub.status.idle": "2022-03-11T18:15:26.422410Z",
     "shell.execute_reply": "2022-03-11T18:15:26.422819Z",
     "shell.execute_reply.started": "2022-03-11T18:00:48.069669Z"
    },
    "papermill": {
     "duration": 0.05227,
     "end_time": "2022-03-11T18:15:26.422984",
     "exception": false,
     "start_time": "2022-03-11T18:15:26.370714",
     "status": "completed"
    },
    "tags": []
   },
   "outputs": [
    {
     "data": {
      "text/plain": [
       "0    284315\n",
       "1       492\n",
       "Name: Class, dtype: int64"
      ]
     },
     "execution_count": 7,
     "metadata": {},
     "output_type": "execute_result"
    }
   ],
   "source": [
    "# Distribution of Class column\n",
    "class_counts=df.Class.value_counts()\n",
    "class_counts"
   ]
  },
  {
   "cell_type": "code",
   "execution_count": 8,
   "id": "abd266ef",
   "metadata": {
    "execution": {
     "iopub.execute_input": "2022-03-11T18:15:26.510937Z",
     "iopub.status.busy": "2022-03-11T18:15:26.510350Z",
     "iopub.status.idle": "2022-03-11T18:15:26.671376Z",
     "shell.execute_reply": "2022-03-11T18:15:26.670874Z",
     "shell.execute_reply.started": "2022-03-11T18:00:48.071515Z"
    },
    "papermill": {
     "duration": 0.205446,
     "end_time": "2022-03-11T18:15:26.671515",
     "exception": false,
     "start_time": "2022-03-11T18:15:26.466069",
     "status": "completed"
    },
    "tags": []
   },
   "outputs": [
    {
     "data": {
      "text/plain": [
       "Text(0, 0.5, 'counts')"
      ]
     },
     "execution_count": 8,
     "metadata": {},
     "output_type": "execute_result"
    },
    {
     "data": {
      "image/png": "[encoded data removed]",
      "text/plain": [
       "<Figure size 432x288 with 1 Axes>"
      ]
     },
     "metadata": {
      "needs_background": "light"
     },
     "output_type": "display_data"
    }
   ],
   "source": [
    "g=sns.barplot(x=class_counts.index,y=class_counts.values)\n",
    "g.set_xticklabels(['Normal','Fraudulent'])\n",
    "g.set_ylabel('counts')"
   ]
  },
  {
   "cell_type": "code",
   "execution_count": 9,
   "id": "9373a0ab",
   "metadata": {
    "execution": {
     "iopub.execute_input": "2022-03-11T18:15:26.767430Z",
     "iopub.status.busy": "2022-03-11T18:15:26.766855Z",
     "iopub.status.idle": "2022-03-11T18:15:26.769537Z",
     "shell.execute_reply": "2022-03-11T18:15:26.770169Z",
     "shell.execute_reply.started": "2022-03-11T18:00:48.073449Z"
    },
    "papermill": {
     "duration": 0.056035,
     "end_time": "2022-03-11T18:15:26.770399",
     "exception": false,
     "start_time": "2022-03-11T18:15:26.714364",
     "status": "completed"
    },
    "tags": []
   },
   "outputs": [
    {
     "name": "stdout",
     "output_type": "stream",
     "text": [
      "Percentage of Normal transactions is 99.83%\n",
      "Percentage of Fraudulent transactions is 0.17%\n"
     ]
    }
   ],
   "source": [
    "print(\"Percentage of Normal transactions is {:.2f}%\".format(df.Class.value_counts()[0]/len(df)*100))\n",
    "print(\"Percentage of Fraudulent transactions is {:.2f}%\".format(df.Class.value_counts()[1]/len(df)*100))"
   ]
  },
  {
   "cell_type": "markdown",
   "id": "6ee012c2",
   "metadata": {
    "papermill": {
     "duration": 0.044272,
     "end_time": "2022-03-11T18:15:26.859025",
     "exception": false,
     "start_time": "2022-03-11T18:15:26.814753",
     "status": "completed"
    },
    "tags": []
   },
   "source": [
    "Only 492 (or 0.17%) of transaction are fraudulent. That means the data is highly unbalanced with respect with target variable Class."
   ]
  },
  {
   "cell_type": "markdown",
   "id": "c63d7550",
   "metadata": {
    "papermill": {
     "duration": 0.043898,
     "end_time": "2022-03-11T18:15:26.948235",
     "exception": false,
     "start_time": "2022-03-11T18:15:26.904337",
     "status": "completed"
    },
    "tags": []
   },
   "source": [
    "**Bivariate Analysis**\n",
    "\n",
    "**Transactions in time**"
   ]
  },
  {
   "cell_type": "code",
   "execution_count": 10,
   "id": "b2df6a87",
   "metadata": {
    "execution": {
     "iopub.execute_input": "2022-03-11T18:15:27.039519Z",
     "iopub.status.busy": "2022-03-11T18:15:27.038897Z",
     "iopub.status.idle": "2022-03-11T18:15:30.013460Z",
     "shell.execute_reply": "2022-03-11T18:15:30.013976Z",
     "shell.execute_reply.started": "2022-03-11T18:00:48.075559Z"
    },
    "papermill": {
     "duration": 3.021732,
     "end_time": "2022-03-11T18:15:30.014296",
     "exception": false,
     "start_time": "2022-03-11T18:15:26.992564",
     "status": "completed"
    },
    "tags": []
   },
   "outputs": [
    {
     "data": {
      "text/plain": [
       "<seaborn.axisgrid.FacetGrid at 0x1a7c5e50d30>"
      ]
     },
     "execution_count": 10,
     "metadata": {},
     "output_type": "execute_result"
    },
    {
     "data": {
      "image/png": "[encoded data removed]",
      "text/plain": [
       "<Figure size 360x360 with 1 Axes>"
      ]
     },
     "metadata": {
      "needs_background": "light"
     },
     "output_type": "display_data"
    }
   ],
   "source": [
    "# Distribution of Time per Class\n",
    "h = sns.catplot(x=\"Class\", y=\"Time\", data=df)\n",
    "h.set_xticklabels(['Normal','Fraudulent'])"
   ]
  },
  {
   "cell_type": "markdown",
   "id": "31bafc7b",
   "metadata": {
    "papermill": {
     "duration": 0.04883,
     "end_time": "2022-03-11T18:15:30.110511",
     "exception": false,
     "start_time": "2022-03-11T18:15:30.061681",
     "status": "completed"
    },
    "tags": []
   },
   "source": [
    "from the above plot,the range of transaction time is almost the same for both types of transactions.\n",
    "\n",
    "\n",
    "**Transactions amount**"
   ]
  },
  {
   "cell_type": "code",
   "execution_count": 11,
   "id": "1baba96b",
   "metadata": {
    "execution": {
     "iopub.execute_input": "2022-03-11T18:15:30.204556Z",
     "iopub.status.busy": "2022-03-11T18:15:30.203949Z",
     "iopub.status.idle": "2022-03-11T18:15:33.277727Z",
     "shell.execute_reply": "2022-03-11T18:15:33.278325Z",
     "shell.execute_reply.started": "2022-03-11T18:00:48.077209Z"
    },
    "papermill": {
     "duration": 3.121599,
     "end_time": "2022-03-11T18:15:33.278498",
     "exception": false,
     "start_time": "2022-03-11T18:15:30.156899",
     "status": "completed"
    },
    "tags": []
   },
   "outputs": [
    {
     "data": {
      "text/plain": [
       "<seaborn.axisgrid.FacetGrid at 0x1a7c63ff700>"
      ]
     },
     "execution_count": 11,
     "metadata": {},
     "output_type": "execute_result"
    },
    {
     "data": {
      "image/png": "[encoded data removed]",
      "text/plain": [
       "<Figure size 360x360 with 1 Axes>"
      ]
     },
     "metadata": {
      "needs_background": "light"
     },
     "output_type": "display_data"
    }
   ],
   "source": [
    "# Distribution of Amount per Class\n",
    "g = sns.catplot(x=\"Class\", y=\"Amount\", data=df)\n",
    "g.set_xticklabels(['Normal','Fraudulent'])"
   ]
  },
  {
   "cell_type": "markdown",
   "id": "a7dec4f1",
   "metadata": {
    "papermill": {
     "duration": 0.045713,
     "end_time": "2022-03-11T18:15:33.370116",
     "exception": false,
     "start_time": "2022-03-11T18:15:33.324403",
     "status": "completed"
    },
    "tags": []
   },
   "source": [
    "now from the above plot,The range of transaction amount for Normal transactions is high than Fraudulent."
   ]
  },
  {
   "cell_type": "code",
   "execution_count": 12,
   "id": "afa4b6c1",
   "metadata": {
    "execution": {
     "iopub.execute_input": "2022-03-11T18:15:33.465141Z",
     "iopub.status.busy": "2022-03-11T18:15:33.464109Z",
     "iopub.status.idle": "2022-03-11T18:15:33.853097Z",
     "shell.execute_reply": "2022-03-11T18:15:33.852658Z",
     "shell.execute_reply.started": "2022-03-11T18:00:48.079641Z"
    },
    "papermill": {
     "duration": 0.437358,
     "end_time": "2022-03-11T18:15:33.853243",
     "exception": false,
     "start_time": "2022-03-11T18:15:33.415885",
     "status": "completed"
    },
    "tags": []
   },
   "outputs": [
    {
     "data": {
      "text/plain": [
       "<AxesSubplot:xlabel='Class', ylabel='Amount'>"
      ]
     },
     "execution_count": 12,
     "metadata": {},
     "output_type": "execute_result"
    },
    {
     "data": {
      "image/png": "[encoded data removed]",
      "text/plain": [
       "<Figure size 432x288 with 1 Axes>"
      ]
     },
     "metadata": {
      "needs_background": "light"
     },
     "output_type": "display_data"
    }
   ],
   "source": [
    "sns.boxplot(x=\"Class\", y=\"Amount\", hue=\"Class\",data=df)"
   ]
  },
  {
   "cell_type": "markdown",
   "id": "c647ea74",
   "metadata": {
    "papermill": {
     "duration": 0.045995,
     "end_time": "2022-03-11T18:15:33.946042",
     "exception": false,
     "start_time": "2022-03-11T18:15:33.900047",
     "status": "completed"
    },
    "tags": []
   },
   "source": [
    "**Features correlation**"
   ]
  },
  {
   "cell_type": "markdown",
   "id": "66d08110",
   "metadata": {
    "papermill": {
     "duration": 0.048023,
     "end_time": "2022-03-11T18:15:35.764364",
     "exception": false,
     "start_time": "2022-03-11T18:15:35.716341",
     "status": "completed"
    },
    "tags": []
   },
   "source": [
    "From the above heatmap, \n",
    "* There is no notable correlation between features V1-V28. \n",
    "* There are certain correlations between some of these features and Time (inverse correlation with V3). \n",
    "* Features and Amount (direct correlation with V7 and V20, inverse correlation with V1 and V5)."
   ]
  },
  {
   "cell_type": "code",
   "execution_count": 13,
   "id": "cfc48d40",
   "metadata": {
    "execution": {
     "iopub.execute_input": "2022-03-11T18:15:34.045436Z",
     "iopub.status.busy": "2022-03-11T18:15:34.044825Z",
     "iopub.status.idle": "2022-03-11T18:15:35.668065Z",
     "shell.execute_reply": "2022-03-11T18:15:35.667589Z",
     "shell.execute_reply.started": "2022-03-11T18:00:48.080919Z"
    },
    "papermill": {
     "duration": 1.6736,
     "end_time": "2022-03-11T18:15:35.668227",
     "exception": false,
     "start_time": "2022-03-11T18:15:33.994627",
     "status": "completed"
    },
    "tags": []
   },
   "outputs": [
    {
     "data": {
      "text/plain": [
       "<AxesSubplot:>"
      ]
     },
     "execution_count": 13,
     "metadata": {},
     "output_type": "execute_result"
    },
    {
     "data": {
      "image/png": "[encoded data removed]",
      "text/plain": [
       "<Figure size 1080x1080 with 2 Axes>"
      ]
     },
     "metadata": {
      "needs_background": "light"
     },
     "output_type": "display_data"
    }
   ],
   "source": [
    "plt.figure(figsize=(15,15))\n",
    "sns.heatmap(df.corr(),linewidths=.1)"
   ]
  },
  {
   "cell_type": "markdown",
   "id": "7a2ae2de",
   "metadata": {
    "papermill": {
     "duration": 0.047951,
     "end_time": "2022-03-11T18:15:35.860606",
     "exception": false,
     "start_time": "2022-03-11T18:15:35.812655",
     "status": "completed"
    },
    "tags": []
   },
   "source": [
    "# 5 Data cleaning or pre-processing\n",
    "Data preprocessing is the concept of changing the raw data into a clean data set. The dataset is preprocessed in order to check missing values, noisy data, and other inconsistencies before executing it to the algorithm."
   ]
  },
  {
   "cell_type": "code",
   "execution_count": 14,
   "id": "2e4d41f6",
   "metadata": {
    "execution": {
     "iopub.execute_input": "2022-03-11T18:15:35.960715Z",
     "iopub.status.busy": "2022-03-11T18:15:35.960088Z",
     "iopub.status.idle": "2022-03-11T18:15:36.088965Z",
     "shell.execute_reply": "2022-03-11T18:15:36.090011Z",
     "shell.execute_reply.started": "2022-03-11T18:00:48.083889Z"
    },
    "papermill": {
     "duration": 0.181316,
     "end_time": "2022-03-11T18:15:36.090333",
     "exception": false,
     "start_time": "2022-03-11T18:15:35.909017",
     "status": "completed"
    },
    "tags": []
   },
   "outputs": [
    {
     "data": {
      "text/plain": [
       "<AxesSubplot:ylabel='Class'>"
      ]
     },
     "execution_count": 14,
     "metadata": {},
     "output_type": "execute_result"
    },
    {
     "data": {
      "image/png": "[encoded data removed]",
      "text/plain": [
       "<Figure size 432x288 with 1 Axes>"
      ]
     },
     "metadata": {},
     "output_type": "display_data"
    }
   ],
   "source": [
    "df['Class'].value_counts().plot.pie(radius=2)"
   ]
  },
  {
   "cell_type": "markdown",
   "id": "60e8fb23",
   "metadata": {
    "papermill": {
     "duration": 0.051633,
     "end_time": "2022-03-11T18:15:36.232581",
     "exception": false,
     "start_time": "2022-03-11T18:15:36.180948",
     "status": "completed"
    },
    "tags": []
   },
   "source": [
    "**Features Separating**\n",
    "\n",
    "Seperated dependent features(Class) and independent features(remaining)"
   ]
  },
  {
   "cell_type": "code",
   "execution_count": 15,
   "id": "e0a614c1",
   "metadata": {
    "execution": {
     "iopub.execute_input": "2022-03-11T18:15:36.337144Z",
     "iopub.status.busy": "2022-03-11T18:15:36.336568Z",
     "iopub.status.idle": "2022-03-11T18:15:36.364132Z",
     "shell.execute_reply": "2022-03-11T18:15:36.364656Z",
     "shell.execute_reply.started": "2022-03-11T18:00:48.085494Z"
    },
    "papermill": {
     "duration": 0.081664,
     "end_time": "2022-03-11T18:15:36.364825",
     "exception": false,
     "start_time": "2022-03-11T18:15:36.283161",
     "status": "completed"
    },
    "tags": []
   },
   "outputs": [],
   "source": [
    "#independent & dependent features\n",
    "x=df.drop('Class',axis=1)\n",
    "y=df['Class']"
   ]
  },
  {
   "cell_type": "code",
   "execution_count": 16,
   "id": "88592a0d",
   "metadata": {
    "execution": {
     "iopub.execute_input": "2022-03-11T18:15:36.468625Z",
     "iopub.status.busy": "2022-03-11T18:15:36.466534Z",
     "iopub.status.idle": "2022-03-11T18:15:36.470690Z",
     "shell.execute_reply": "2022-03-11T18:15:36.471355Z",
     "shell.execute_reply.started": "2022-03-11T18:00:48.087815Z"
    },
    "papermill": {
     "duration": 0.057236,
     "end_time": "2022-03-11T18:15:36.471573",
     "exception": false,
     "start_time": "2022-03-11T18:15:36.414337",
     "status": "completed"
    },
    "tags": []
   },
   "outputs": [
    {
     "name": "stdout",
     "output_type": "stream",
     "text": [
      "(284807, 30)\n",
      "(284807,)\n"
     ]
    }
   ],
   "source": [
    "print(x.shape)\n",
    "print(y.shape)"
   ]
  },
  {
   "cell_type": "markdown",
   "id": "3751c35a",
   "metadata": {
    "papermill": {
     "duration": 0.049176,
     "end_time": "2022-03-11T18:15:36.571510",
     "exception": false,
     "start_time": "2022-03-11T18:15:36.522334",
     "status": "completed"
    },
    "tags": []
   },
   "source": [
    "**Sampling Technique - SMOTE**"
   ]
  },
  {
   "cell_type": "code",
   "execution_count": 17,
   "id": "62dfa3fa",
   "metadata": {
    "execution": {
     "iopub.execute_input": "2022-03-11T18:15:36.677051Z",
     "iopub.status.busy": "2022-03-11T18:15:36.676460Z",
     "iopub.status.idle": "2022-03-11T18:15:36.839380Z",
     "shell.execute_reply": "2022-03-11T18:15:36.838858Z",
     "shell.execute_reply.started": "2022-03-11T18:00:48.089207Z"
    },
    "papermill": {
     "duration": 0.216138,
     "end_time": "2022-03-11T18:15:36.839534",
     "exception": false,
     "start_time": "2022-03-11T18:15:36.623396",
     "status": "completed"
    },
    "tags": []
   },
   "outputs": [
    {
     "name": "stdout",
     "output_type": "stream",
     "text": [
      "before smote\n"
     ]
    },
    {
     "data": {
      "text/plain": [
       "<AxesSubplot:>"
      ]
     },
     "execution_count": 17,
     "metadata": {},
     "output_type": "execute_result"
    },
    {
     "data": {
      "image/png": "[encoded data removed]",
      "text/plain": [
       "<Figure size 648x504 with 1 Axes>"
      ]
     },
     "metadata": {
      "needs_background": "light"
     },
     "output_type": "display_data"
    }
   ],
   "source": [
    "print(\"before smote\")\n",
    "y.value_counts().plot.bar(figsize=(9, 7), rot=0)"
   ]
  },
  {
   "cell_type": "code",
   "execution_count": 18,
   "id": "0a3b4998",
   "metadata": {
    "execution": {
     "iopub.execute_input": "2022-03-11T18:15:36.949781Z",
     "iopub.status.busy": "2022-03-11T18:15:36.948854Z",
     "iopub.status.idle": "2022-03-11T18:15:37.670086Z",
     "shell.execute_reply": "2022-03-11T18:15:37.670499Z",
     "shell.execute_reply.started": "2022-03-11T18:01:29.560806Z"
    },
    "papermill": {
     "duration": 0.777672,
     "end_time": "2022-03-11T18:15:37.670664",
     "exception": false,
     "start_time": "2022-03-11T18:15:36.892992",
     "status": "completed"
    },
    "tags": []
   },
   "outputs": [
    {
     "name": "stdout",
     "output_type": "stream",
     "text": [
      "AFTER SMOTE\n"
     ]
    },
    {
     "data": {
      "text/plain": [
       "<AxesSubplot:>"
      ]
     },
     "execution_count": 18,
     "metadata": {},
     "output_type": "execute_result"
    },
    {
     "data": {
      "image/png": "[encoded data removed]",
      "text/plain": [
       "<Figure size 648x504 with 1 Axes>"
      ]
     },
     "metadata": {
      "needs_background": "light"
     },
     "output_type": "display_data"
    }
   ],
   "source": [
    "# implement smote now\n",
    "smote = SMOTE(random_state=42)\n",
    "X,Y  = smote.fit_resample(x, y)\n",
    "\n",
    "print(\"AFTER SMOTE\")\n",
    "Y.value_counts().plot.bar(figsize=(9, 7), rot=0)"
   ]
  },
  {
   "cell_type": "code",
   "execution_count": 19,
   "id": "4c62328e",
   "metadata": {},
   "outputs": [
    {
     "data": {
      "text/plain": [
       "<AxesSubplot:ylabel='Class'>"
      ]
     },
     "execution_count": 19,
     "metadata": {},
     "output_type": "execute_result"
    },
    {
     "data": {
      "image/png": "[encoded data removed]",
      "text/plain": [
       "<Figure size 432x288 with 1 Axes>"
      ]
     },
     "metadata": {},
     "output_type": "display_data"
    }
   ],
   "source": [
    "Y.value_counts().plot.pie(radius=2)"
   ]
  },
  {
   "cell_type": "code",
   "execution_count": 20,
   "id": "9989cba2",
   "metadata": {
    "execution": {
     "iopub.execute_input": "2022-03-11T18:15:37.780667Z",
     "iopub.status.busy": "2022-03-11T18:15:37.780002Z",
     "iopub.status.idle": "2022-03-11T18:15:37.787337Z",
     "shell.execute_reply": "2022-03-11T18:15:37.787884Z",
     "shell.execute_reply.started": "2022-03-11T18:01:41.574740Z"
    },
    "papermill": {
     "duration": 0.063365,
     "end_time": "2022-03-11T18:15:37.788049",
     "exception": false,
     "start_time": "2022-03-11T18:15:37.724684",
     "status": "completed"
    },
    "tags": []
   },
   "outputs": [
    {
     "data": {
      "text/plain": [
       "((568630, 30), (568630,))"
      ]
     },
     "execution_count": 20,
     "metadata": {},
     "output_type": "execute_result"
    }
   ],
   "source": [
    "X.shape,Y.shape"
   ]
  },
  {
   "cell_type": "markdown",
   "id": "9ae1cc6f",
   "metadata": {
    "papermill": {
     "duration": 0.054324,
     "end_time": "2022-03-11T18:15:39.488456",
     "exception": false,
     "start_time": "2022-03-11T18:15:39.434132",
     "status": "completed"
    },
    "tags": []
   },
   "source": [
    "**Splitting Data Set**\n",
    "\n",
    "Let data set will be split into 70% train and 30% test."
   ]
  },
  {
   "cell_type": "code",
   "execution_count": 21,
   "id": "4a9d758a",
   "metadata": {
    "execution": {
     "iopub.execute_input": "2022-03-11T18:15:39.599063Z",
     "iopub.status.busy": "2022-03-11T18:15:39.598489Z",
     "iopub.status.idle": "2022-03-11T18:15:39.893558Z",
     "shell.execute_reply": "2022-03-11T18:15:39.892939Z",
     "shell.execute_reply.started": "2022-03-11T18:00:48.097470Z"
    },
    "papermill": {
     "duration": 0.351025,
     "end_time": "2022-03-11T18:15:39.893693",
     "exception": false,
     "start_time": "2022-03-11T18:15:39.542668",
     "status": "completed"
    },
    "tags": []
   },
   "outputs": [],
   "source": [
    "#split data into training and testing sets\n",
    "x_train,x_test,y_train,y_test = train_test_split(X,Y,random_state=42,test_size=.3)"
   ]
  },
  {
   "cell_type": "markdown",
   "id": "44ccbfe7",
   "metadata": {
    "papermill": {
     "duration": 0.053666,
     "end_time": "2022-03-11T18:15:40.001503",
     "exception": false,
     "start_time": "2022-03-11T18:15:39.947837",
     "status": "completed"
    },
    "tags": []
   },
   "source": [
    "# 6 Models"
   ]
  },
  {
   "cell_type": "code",
   "execution_count": 22,
   "id": "5ed74fae",
   "metadata": {},
   "outputs": [
    {
     "name": "stdout",
     "output_type": "stream",
     "text": [
      "Confusion matrix\n",
      "\n",
      "[[83648  1501]\n",
      " [ 2996 82444]]\n",
      "\n",
      "Classification Report\n",
      "              precision    recall  f1-score   support\n",
      "\n",
      "           0       0.97      0.98      0.97     85149\n",
      "           1       0.98      0.96      0.97     85440\n",
      "\n",
      "    accuracy                           0.97    170589\n",
      "   macro avg       0.97      0.97      0.97    170589\n",
      "weighted avg       0.97      0.97      0.97    170589\n",
      "\n",
      "\n",
      "Logistic Regression accuracy:97.36%\n"
     ]
    }
   ],
   "source": [
    "lr=LogisticRegression(max_iter=500)\n",
    "lr.fit(x_train,y_train)\n",
    "y_pred=lr.predict(x_test)\n",
    "print('Confusion matrix')\n",
    "print()\n",
    "print(confusion_matrix(y_test,y_pred))\n",
    "print()\n",
    "print('Classification Report')\n",
    "print(classification_report(y_test,y_pred))\n",
    "print()\n",
    "from sklearn.metrics import accuracy_score\n",
    "acLR=accuracy_score(y_test,y_pred)\n",
    "print('Logistic Regression accuracy:{:.2f}%'.format(acLR*100))"
   ]
  },
  {
   "cell_type": "code",
   "execution_count": 23,
   "id": "4ddb8861",
   "metadata": {},
   "outputs": [
    {
     "name": "stderr",
     "output_type": "stream",
     "text": [
      "C:\\Users\\DELL\\anaconda3\\lib\\site-packages\\sklearn\\svm\\_base.py:301: ConvergenceWarning: Solver terminated early (max_iter=500).  Consider pre-processing your data with StandardScaler or MinMaxScaler.\n",
      "  warnings.warn(\n"
     ]
    },
    {
     "name": "stdout",
     "output_type": "stream",
     "text": [
      "confusion matrix:\n",
      " [[54571 30578]\n",
      " [45569 39871]]\n",
      "\n",
      " Classification report:\n",
      "               precision    recall  f1-score   support\n",
      "\n",
      "           0       0.54      0.64      0.59     85149\n",
      "           1       0.57      0.47      0.51     85440\n",
      "\n",
      "    accuracy                           0.55    170589\n",
      "   macro avg       0.56      0.55      0.55    170589\n",
      "weighted avg       0.56      0.55      0.55    170589\n",
      "\n",
      "SVM Accuracy: 55.362304%\n"
     ]
    }
   ],
   "source": [
    "svc=SVC(max_iter=500)\n",
    "svc.fit(x_train,y_train)\n",
    "y_pred=svc.predict(x_test)\n",
    "print('confusion matrix:\\n',confusion_matrix(y_test,y_pred))\n",
    "print('\\n Classification report:\\n',classification_report(y_test,y_pred))\n",
    "from sklearn.metrics import accuracy_score\n",
    "auSV=accuracy_score(y_test,y_pred)\n",
    "print('SVM Accuracy: {:2f}%'.format(auSV*100))"
   ]
  },
  {
   "cell_type": "code",
   "execution_count": 24,
   "id": "aa6727f2",
   "metadata": {
    "execution": {
     "iopub.execute_input": "2022-03-11T18:17:33.801684Z",
     "iopub.status.busy": "2022-03-11T18:17:33.800780Z",
     "iopub.status.idle": "2022-03-11T18:24:27.542218Z",
     "shell.execute_reply": "2022-03-11T18:24:27.541690Z",
     "shell.execute_reply.started": "2022-03-11T18:06:03.270183Z"
    },
    "papermill": {
     "duration": 413.801226,
     "end_time": "2022-03-11T18:24:27.542355",
     "exception": false,
     "start_time": "2022-03-11T18:17:33.741129",
     "status": "completed"
    },
    "tags": []
   },
   "outputs": [
    {
     "name": "stdout",
     "output_type": "stream",
     "text": [
      "Confusion matrix\n",
      "[[85132    17]\n",
      " [    1 85439]]\n",
      "Classification report\n",
      "              precision    recall  f1-score   support\n",
      "\n",
      "           0       1.00      1.00      1.00     85149\n",
      "           1       1.00      1.00      1.00     85440\n",
      "\n",
      "    accuracy                           1.00    170589\n",
      "   macro avg       1.00      1.00      1.00    170589\n",
      "weighted avg       1.00      1.00      1.00    170589\n",
      "\n",
      "Random Forest Accuracy:  99.99%\n"
     ]
    }
   ],
   "source": [
    "rf=RandomForestClassifier()\n",
    "rf.fit(x_train,y_train)\n",
    "y_pred=rf.predict(x_test)\n",
    "print('Confusion matrix')\n",
    "print(confusion_matrix(y_test,y_pred))\n",
    "print('Classification report')\n",
    "print(classification_report(y_test,y_pred))\n",
    "acRF=accuracy_score(y_test,y_pred)\n",
    "print(\"Random Forest Accuracy:  {:.2f}%\".format(acRF*100))"
   ]
  },
  {
   "cell_type": "code",
   "execution_count": 25,
   "id": "343227d6",
   "metadata": {},
   "outputs": [
    {
     "data": {
      "text/html": [
       "<div>\n",
       "<style scoped>\n",
       "    .dataframe tbody tr th:only-of-type {\n",
       "        vertical-align: middle;\n",
       "    }\n",
       "\n",
       "    .dataframe tbody tr th {\n",
       "        vertical-align: top;\n",
       "    }\n",
       "\n",
       "    .dataframe thead th {\n",
       "        text-align: right;\n",
       "    }\n",
       "</style>\n",
       "<table border=\"1\" class=\"dataframe\">\n",
       "  <thead>\n",
       "    <tr style=\"text-align: right;\">\n",
       "      <th></th>\n",
       "      <th>Model</th>\n",
       "      <th>Accuracy</th>\n",
       "    </tr>\n",
       "  </thead>\n",
       "  <tbody>\n",
       "    <tr>\n",
       "      <th>0</th>\n",
       "      <td>Logistic Regression</td>\n",
       "      <td>97.363839</td>\n",
       "    </tr>\n",
       "    <tr>\n",
       "      <th>1</th>\n",
       "      <td>SVM</td>\n",
       "      <td>55.362304</td>\n",
       "    </tr>\n",
       "    <tr>\n",
       "      <th>2</th>\n",
       "      <td>Random Forest</td>\n",
       "      <td>99.989448</td>\n",
       "    </tr>\n",
       "  </tbody>\n",
       "</table>\n",
       "</div>"
      ],
      "text/plain": [
       "                 Model   Accuracy\n",
       "0  Logistic Regression  97.363839\n",
       "1                  SVM  55.362304\n",
       "2        Random Forest  99.989448"
      ]
     },
     "execution_count": 25,
     "metadata": {},
     "output_type": "execute_result"
    }
   ],
   "source": [
    "compare = pd.DataFrame({'Model': ['Logistic Regression','SVM','Random Forest'], \n",
    "                        'Accuracy': [acLR*100,auSV*100,acRF*100]})\n",
    "compare"
   ]
  }
 ],
 "metadata": {
  "hide_input": false,
  "kernelspec": {
   "display_name": "Python 3",
   "language": "python",
   "name": "python3"
  },
  "language_info": {
   "codemirror_mode": {
    "name": "ipython",
    "version": 3
   },
   "file_extension": ".py",
   "mimetype": "text/x-python",
   "name": "python",
   "nbconvert_exporter": "python",
   "pygments_lexer": "ipython3",
   "version": "3.8.8"
  },
  "papermill": {
   "default_parameters": {},
   "duration": 558.814378,
   "end_time": "2022-03-11T18:24:28.672346",
   "environment_variables": {},
   "exception": null,
   "input_path": "__notebook__.ipynb",
   "output_path": "__notebook__.ipynb",
   "parameters": {},
   "start_time": "2022-03-11T18:15:09.857968",
   "version": "2.3.3"
  }
 },
 "nbformat": 4,
 "nbformat_minor": 5
}
